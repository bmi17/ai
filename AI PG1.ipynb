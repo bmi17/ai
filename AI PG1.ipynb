{
 "cells": [
  {
   "cell_type": "code",
   "execution_count": null,
   "id": "fe551c75",
   "metadata": {},
   "outputs": [],
   "source": [
    "Practical 1\n",
    "\n",
    "Implement depth first search algorithm and Breadth First Search algorithm, Use an\n",
    "undirected graph and develop a recursive algorithm for searching all the vertices of a graph\n",
    "or tree data structure."
   ]
  },
  {
   "cell_type": "code",
   "execution_count": 5,
   "id": "2f8c5f19",
   "metadata": {},
   "outputs": [],
   "source": [
    "graph={'A':['B','E','C'],\n",
    "      'B':['A','D'],\n",
    "      'E':['A','D'],\n",
    "      'C':['A','G','F'],\n",
    "      'D':['B','E'],\n",
    "      'G':['C'],\n",
    "      'F':['C']}"
   ]
  },
  {
   "cell_type": "code",
   "execution_count": 6,
   "id": "3faccba3",
   "metadata": {},
   "outputs": [
    {
     "name": "stdout",
     "output_type": "stream",
     "text": [
      "BFS Traversal is : \n",
      "A\n",
      "B\n",
      "E\n",
      "C\n",
      "Node is Found !!! \n"
     ]
    }
   ],
   "source": [
    "visited = []\n",
    "queue = []\n",
    "\n",
    "def bfs(visited, graph, start_node, goal_node):\n",
    "    visited.append(start_node)\n",
    "    queue.append(start_node)\n",
    "    while queue:\n",
    "        m = queue.pop(0)\n",
    "        print(m)\n",
    "        if m == goal_node:\n",
    "            print(\"Node is Found !!! \")\n",
    "            break\n",
    "        else:\n",
    "            for n in graph[m]:\n",
    "                if n not in visited:\n",
    "                    visited.append(n)\n",
    "                    queue.append(n)\n",
    "\n",
    "print(\"BFS Traversal is : \")\n",
    "bfs(visited, graph, 'A', 'C')"
   ]
  },
  {
   "cell_type": "code",
   "execution_count": 7,
   "id": "d790eabf",
   "metadata": {},
   "outputs": [
    {
     "name": "stdout",
     "output_type": "stream",
     "text": [
      "DFS traveral is: \n",
      "A\n",
      "C\n",
      "Goal node found!\n"
     ]
    }
   ],
   "source": [
    "visited = []\n",
    "stack = []\n",
    "\n",
    "def dfs(graph, start, goal):\n",
    "    print(\"DFS traveral is: \")\n",
    "    stack.append(start)\n",
    "    visited.append(start)\n",
    "    while stack:\n",
    "        node = stack[-1]\n",
    "        stack.pop()\n",
    "        print(node)\n",
    "        if node == goal:\n",
    "            print(\"Goal node found!\")\n",
    "            return\n",
    "        for n in graph[node]:\n",
    "            if n not in visited:\n",
    "                visited.append(n)\n",
    "                stack.append(n)\n",
    "\n",
    "dfs(graph, 'A', \"C\")"
   ]
  }
 ],
 "metadata": {
  "kernelspec": {
   "display_name": "Python 3 (ipykernel)",
   "language": "python",
   "name": "python3"
  },
  "language_info": {
   "codemirror_mode": {
    "name": "ipython",
    "version": 3
   },
   "file_extension": ".py",
   "mimetype": "text/x-python",
   "name": "python",
   "nbconvert_exporter": "python",
   "pygments_lexer": "ipython3",
   "version": "3.10.9"
  }
 },
 "nbformat": 4,
 "nbformat_minor": 5
}

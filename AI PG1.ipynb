{
 "cells": [
  {
   "cell_type": "code",
   "execution_count": null,
   "id": "fe551c75",
   "metadata": {},
   "outputs": [],
   "source": [
    "Practical 1\n",
    "\n",
    "Implement depth first search algorithm and Breadth First Search algorithm, Use an\n",
    "undirected graph and develop a recursive algorithm for searching all the vertices of a graph\n",
    "or tree data structure."
   ]
  },
  {
   "cell_type": "code",
   "execution_count": 20,
   "id": "2f8c5f19",
   "metadata": {},
   "outputs": [],
   "source": [
    "Graph={'A':['B','E','C'],\n",
    "      'B':['A','D'],\n",
    "      'E':['A','D'],\n",
    "      'C':['A','G','F'],\n",
    "      'D':['B','E'],\n",
    "      'G':['C'],\n",
    "      'F':['C']}"
   ]
  },
  {
   "cell_type": "code",
   "execution_count": 21,
   "id": "4555bc77",
   "metadata": {},
   "outputs": [
    {
     "name": "stdout",
     "output_type": "stream",
     "text": [
      "Breadth First Search:\n",
      "A B E C D G F "
     ]
    }
   ],
   "source": [
    "visited=[]\n",
    "queue=[]\n",
    "\n",
    "def bfs(visited,graph,node):\n",
    "    visited.append(node)\n",
    "    queue.append(node)\n",
    "    while queue:\n",
    "        m=queue.pop(0)\n",
    "        print(m,end=\" \")\n",
    "        for neighbour in graph[m]:\n",
    "            if neighbour not in visited:\n",
    "                visited.append(neighbour)\n",
    "                queue.append(neighbour)\n",
    "\n",
    "print(\"Breadth First Search:\")\n",
    "bfs(visited,Graph,'A')                "
   ]
  },
  {
   "cell_type": "code",
   "execution_count": 23,
   "id": "58729e88",
   "metadata": {},
   "outputs": [
    {
     "name": "stdout",
     "output_type": "stream",
     "text": [
      "Depth First Search:\n",
      "A\n",
      "B\n",
      "D\n",
      "E\n",
      "C\n",
      "G\n",
      "F\n"
     ]
    }
   ],
   "source": [
    "visit=set()\n",
    "\n",
    "def dfs(visit,graph,node):\n",
    "    if node not in visit:\n",
    "        print(node)\n",
    "        visit.add(node)\n",
    "        for neighbour in Graph[node]:\n",
    "            dfs(visit,Graph,neighbour)\n",
    "            \n",
    "print(\"Depth First Search:\")            \n",
    "dfs(visit,Graph,'A')            "
   ]
  }
 ],
 "metadata": {
  "kernelspec": {
   "display_name": "Python 3 (ipykernel)",
   "language": "python",
   "name": "python3"
  },
  "language_info": {
   "codemirror_mode": {
    "name": "ipython",
    "version": 3
   },
   "file_extension": ".py",
   "mimetype": "text/x-python",
   "name": "python",
   "nbconvert_exporter": "python",
   "pygments_lexer": "ipython3",
   "version": "3.10.9"
  }
 },
 "nbformat": 4,
 "nbformat_minor": 5
}

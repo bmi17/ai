{
 "cells": [
  {
   "cell_type": "markdown",
   "id": "b40a50e7",
   "metadata": {},
   "source": [
    "Practical 3\n",
    "\n",
    "Implement Greedy search algorithm for Selection Sort"
   ]
  },
  {
   "cell_type": "code",
   "execution_count": 8,
   "id": "da1801c2",
   "metadata": {},
   "outputs": [
    {
     "name": "stdout",
     "output_type": "stream",
     "text": [
      "Sorted Array in Ascending Order:\n",
      "[-2, -1, 0, 34, 45, 56, 59, 76, 89]\n"
     ]
    }
   ],
   "source": [
    "def selectionSort(array):\n",
    "    for step in range(len(array)):\n",
    "        min_idx = step\n",
    "        for i in range(step + 1, len(array)):\n",
    "            if array[i] < array[min_idx]:\n",
    "                min_idx = i\n",
    "        (array[step], array[min_idx]) = (array[min_idx], array[step])\n",
    "\n",
    "data = [89,56,45,34,-1,76,0,59,-2]\n",
    "selectionSort(data)\n",
    "print('Sorted Array:')\n",
    "print(data)"
   ]
  }
 ],
 "metadata": {
  "kernelspec": {
   "display_name": "Python 3 (ipykernel)",
   "language": "python",
   "name": "python3"
  },
  "language_info": {
   "codemirror_mode": {
    "name": "ipython",
    "version": 3
   },
   "file_extension": ".py",
   "mimetype": "text/x-python",
   "name": "python",
   "nbconvert_exporter": "python",
   "pygments_lexer": "ipython3",
   "version": "3.10.9"
  }
 },
 "nbformat": 4,
 "nbformat_minor": 5
}

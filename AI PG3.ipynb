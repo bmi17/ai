{
 "cells": [
  {
   "cell_type": "markdown",
   "id": "b40a50e7",
   "metadata": {},
   "source": [
    "Practical 3\n",
    "\n",
    "Implement Greedy search algorithm for Selection Sort"
   ]
  },
  {
   "cell_type": "code",
   "execution_count": 14,
   "id": "8a55fccd",
   "metadata": {},
   "outputs": [
    {
     "name": "stdout",
     "output_type": "stream",
     "text": [
      "[-2, -1, 0, 34, 45, 56, 59, 76, 89]\n"
     ]
    }
   ],
   "source": [
    "def selectionSort(arr):\n",
    "    for i in range(len(arr)):\n",
    "        min = float('-inf')\n",
    "        for j in range(i + 1, len(arr)):\n",
    "            if arr[i] > arr[j]:\n",
    "                arr[i],arr[j] = arr[j], arr[i]\n",
    "    return arr\n",
    "    \n",
    "print(selectionSort([89,56,45,34,-1,76,0,59,-2]))"
   ]
  }
 ],
 "metadata": {
  "kernelspec": {
   "display_name": "Python 3 (ipykernel)",
   "language": "python",
   "name": "python3"
  },
  "language_info": {
   "codemirror_mode": {
    "name": "ipython",
    "version": 3
   },
   "file_extension": ".py",
   "mimetype": "text/x-python",
   "name": "python",
   "nbconvert_exporter": "python",
   "pygments_lexer": "ipython3",
   "version": "3.10.9"
  }
 },
 "nbformat": 4,
 "nbformat_minor": 5
}
